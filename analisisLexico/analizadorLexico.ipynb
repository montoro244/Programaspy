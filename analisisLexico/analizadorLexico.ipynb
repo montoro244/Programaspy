{
 "cells": [
  {
   "cell_type": "markdown",
   "metadata": {},
   "source": [
    "# <center> Lenguajes y Autómatas II</center>\n",
    "## <center>Tema: Análisis Léxico </center>"
   ]
  },
  {
   "attachments": {
    "scanner.png": {
     "image/png": "[encoded data removed]"
    }
   },
   "cell_type": "markdown",
   "metadata": {},
   "source": [
    "### Analisis Léxico\n",
    "\n",
    "Un **analizador léxico** o analizador lexicográfico (en inglés *scanner*) es la primera fase de un compilador consistente en un programa que recibe como **entrada el código fuente** de otro programa (secuencia de caracteres) y produce una **salida compuesta de tokens (componentes léxicos) o símbolos**. Estos **tokens** sirven para una posterior etapa del proceso de traducción, siendo la entrada para el analizador sintáctico (en inglés *parser*).\n",
    "\n",
    "La especificación de un lenguaje de programación a menudo incluye un **conjunto de reglas** que definen el léxico. Estas reglas consisten comúnmente en **expresiones regulares** que indican el conjunto de posibles secuencias de caracteres que definen un *token ó lexema*. En algunos lenguajes de programación es necesario establecer patrones para caracteres especiales (como el espacio en blanco) que la gramática pueda reconocer sin que constituya un token en sí.\n",
    "\n",
    "\n",
    "![scanner.png](attachment:scanner.png)\n",
    "\n",
    "\n",
    "\n",
    "### Desarrollar una analizador léxico \n",
    "\n",
    "Cómo un analizador léxico tiene que leer el código fuente y  reconocer patrones llamados tokens,  que no son mas que un conjunto de caracteres que definen componentes léxicos del lenguaje que estamos utilizando, por ejemplo en C : la palabra reservada **printf()**.  Entonces, si queremos desarrollar un analizador léxico debemos primeramente saber manipular cadenas de caracteres.\n",
    "\n"
   ]
  },
  {
   "cell_type": "code",
   "execution_count": 1,
   "metadata": {},
   "outputs": [
    {
     "name": "stderr",
     "output_type": "stream",
     "text": [
      "C:\\ProgramData\\Anaconda3\\lib\\site-packages\\IPython\\core\\display.py:689: UserWarning: Consider using IPython.display.IFrame instead\n",
      "  warnings.warn(\"Consider using IPython.display.IFrame instead\")\n"
     ]
    },
    {
     "data": {
      "text/html": [
       "<iframe width=\"560\" height=\"315\" src=\"https://www.youtube.com/embed/idnS9MTwfOU\" frameborder=\"0\" allow=\"accelerometer; autoplay; encrypted-media; gyroscope; picture-in-picture\" allowfullscreen></iframe>"
      ],
      "text/plain": [
       "<IPython.core.display.HTML object>"
      ]
     },
     "execution_count": 1,
     "metadata": {},
     "output_type": "execute_result"
    }
   ],
   "source": [
    "from IPython.display import HTML\n",
    "\n",
    "\n",
    "HTML('<iframe width=\"560\" height=\"315\" src=\"https://www.youtube.com/embed/S_f2qV2_U00?rel=0&amp;controls=0&amp;showinfo=0\" frameborder=\"0\" allowfullscreen></iframe>')\n",
    "HTML('<iframe width=\"560\" height=\"315\" src=\"https://www.youtube.com/embed/idnS9MTwfOU\" frameborder=\"0\" allow=\"accelerometer; autoplay; encrypted-media; gyroscope; picture-in-picture\" allowfullscreen></iframe>')"
   ]
  },
  {
   "cell_type": "markdown",
   "metadata": {},
   "source": [
    "### Manipular cadenas de caracteres en python\n",
    "\n",
    "Si has estado expuesto antes a otro lenguaje de programación, sabrás que necesitas declarar o escribir variables antes de que puedas almacenar cualquier cosa en ellas. Esto no es necesario cuando trabajas con cadenas de caracteres en Python. Podemos crear una cadena de caracteres simplemente encerrando contenido entre comillas después de un signo de igual (=).\n",
    "\n",
    "ejemplo :\n",
    "```python\n",
    "          mensaje = \"Hola a Todos\"\n",
    " ```   \n"
   ]
  },
  {
   "cell_type": "code",
   "execution_count": 10,
   "metadata": {},
   "outputs": [
    {
     "name": "stdout",
     "output_type": "stream",
     "text": [
      "Hola Mundo desde el Analizador Léxico\n"
     ]
    }
   ],
   "source": [
    "# Definimos una variable tipo string\n",
    "mensaje = \"Hola Mundo desde el Analizador Léxico\"\n",
    "print(mensaje)"
   ]
  },
  {
   "cell_type": "markdown",
   "metadata": {},
   "source": [
    "### Operadores de cadenas de caracteres: adición y multiplicación\n",
    "Una cadena de caracteres es un objeto que consiste precisamente en una serie de signos o caracteres. Python sabe cómo tratar un número de representaciones poderosas y de propósito general, incluidas las cadenas de caracteres. Una forma de manipular cadenas de caracteres es utilizar operadores de cadenas de caracteres. Dichos operadores se representan con símbolos que asociamos a las matemáticas, como +, -, *, / y =. Estos signos realizan acciones similares a sus contrapartes matemáticas cuando se usan con las cadenas de carateres, aunque no iguales."
   ]
  },
  {
   "cell_type": "markdown",
   "metadata": {},
   "source": [
    "#### Concatenar\n",
    "Este término significa juntar cadenas de caracteres. El proceso de concatenación se realiza mediante el operador de suma (+). Ten en cuenta que debes marcar explícitamente dónde quieres los espacios en blanco y colocarlos entre comillas. En este ejemplo, la cadena de caracteres “mensaje” tiene el contenido “Hola Mundo desde el Anaizador Léxico”"
   ]
  },
  {
   "cell_type": "code",
   "execution_count": 3,
   "metadata": {},
   "outputs": [
    {
     "name": "stdout",
     "output_type": "stream",
     "text": [
      "Hola Mundo desde el Analizador Léxico\n"
     ]
    }
   ],
   "source": [
    "# Ejemplo de concatenación de cadenas\n",
    "mensaje = \"Hola Mundo\" + \" \" + \"desde el \"+\"Analizador Léxico\"\n",
    "print(mensaje)"
   ]
  },
  {
   "cell_type": "markdown",
   "metadata": {},
   "source": [
    "#### Multiplicar\n",
    "Si quieres varias copias de una cadena de caracteres utiliza el operador de multiplicación (*). En este ejemplo, la cadena de caracteres mensaje lleva el contenido “Hola” tres veces, mientras que la cadena de caracteres mensaje2 tiene el contenido “Mundo”. Ordenemos imprimir las dos cadenas."
   ]
  },
  {
   "cell_type": "code",
   "execution_count": 4,
   "metadata": {},
   "outputs": [
    {
     "name": "stdout",
     "output_type": "stream",
     "text": [
      "Hola Hola Hola Mundo\n"
     ]
    }
   ],
   "source": [
    "# Ejemplo de multiplicación de cadenas\n",
    "mensaje = \"Hola \" * 3\n",
    "mensaje2 = \"Mundo\"\n",
    "print(mensaje + mensaje2)"
   ]
  },
  {
   "cell_type": "markdown",
   "metadata": {},
   "source": [
    "#### Añadir\n",
    "¿Qué pasa si quieres añadir strings de manera sucesiva al final de una cadena de caracteres? El operador especial para ello es compuesto **(+=)**."
   ]
  },
  {
   "cell_type": "code",
   "execution_count": 5,
   "metadata": {},
   "outputs": [
    {
     "name": "stdout",
     "output_type": "stream",
     "text": [
      "Hola Mundo\n"
     ]
    }
   ],
   "source": [
    "mensaje3 = 'Hola'\n",
    "mensaje3 += ' '\n",
    "mensaje3 += 'Mundo'\n",
    "print(mensaje3)"
   ]
  },
  {
   "cell_type": "markdown",
   "metadata": {},
   "source": [
    "#### Métodos para cadenas de caracteres: buscar, cambiar\n",
    "En adición a los operadores, Python trae preinstalado docenas de métodos que te permiten hacer cosas con las cadenas de\n",
    "caracteres. Solos o en combinación, los métodos pueden hacer casi todo lo que te imagines con las cadenas de caracteres. \n",
    "Puedes usar como referencia la lista de métodos de cadenas de caracteres (String Methods) en el sitio web de Python, \n",
    "que incluye información de cómo utilizar correctamente cada uno. Para asegurar que tengas una comprensión básica de\n",
    "métodos para cadenas de caracteres, lo que sigue es una breve descripción de los utilizados más comúnmente.\n",
    "\n",
    "**Extensión**\n",
    "Puedes determinar el número de caracteres en una cadena utilizando el método _len_. Acuérdate que los espacios en blanco cuentan como un carácter.\n",
    "\n",
    "```python\n",
    "mensaje = 'hola' + ' ' + 'mundo'\n",
    "print(len(mensaje))\n",
    "```\n",
    "-> 10\n",
    "\n",
    "\n",
    "**Encontrar**\n",
    "Puedes buscar una sub-cadena en una cadena de caracteres utilizando el método _find_ y tu programa te indicará el índice de inicio de la misma. Esto es muy útil para procesos que veremos más adelante. Ten en mente que los índices están numerados de izquierda a derecha y que el número en el que se comienza a contar la posición es el 0, no el 1.\n",
    "\n",
    "```python\n",
    "mensaje5 = \"Hola Mundo\"\n",
    "mensaje5a = mensaje5.find(\"Mundo\")\n",
    "print(mensaje5a)\n",
    "```\n",
    "-> 5\n",
    "\n",
    "**Minúsculas**\n",
    "A veces es útil convertir una cadena de caracteres a minúsculas. Para ello se utiliza el método _lower_. Por ejemplo, al uniformar los caracteres permitimos que la computadora reconozca fácilmente que “Algunas Veces” y “algunas veces” son la misma frase.\n",
    "\n",
    "```python\n",
    "mensaje7 = \"HOLA MUNDO\"\n",
    "mensaje7a = mensaje7.lower()\n",
    "print(mensaje7a)\n",
    "```\n",
    "-> hola mundo\n",
    "\n",
    "Convertir las minúsculas en mayúsculas se logra cambiando  *.lower()* por *.upper()*. \n",
    "\n",
    "\n",
    "**Reemplazar**\n",
    "Si necesitas cambiar una sub-cadena de una cadena se puede utilizar el método *replace*.\n",
    "```python\n",
    "mensaje8 = \"HOLA MUNDO\"\n",
    "mensaje8a = mensaje7.replace(\"L\", \"pizza\")\n",
    "print(mensaje8a)\n",
    "```\n",
    "-> HOpizzaA MUNDO\n",
    "\n",
    "**Cortar**\n",
    "Si quieres cortar partes que no quieras del principio o del final de la cadena de caracteres, lo puedes hacer creando una sub-cadena. El mismo tipo de técnica te permite separar una cadena muy larga en componentes más manejables.\n",
    "\n",
    "```python\n",
    "mensaje9 = \"Hola Mundo\"\n",
    "mensaje9a = mensaje9[1:8]\n",
    "print(mensaje9a)\n",
    "```\n",
    "-> ola Mun\n",
    "\n",
    "\n",
    "**División en trozos**\n",
    "Supongamos que tenemos una cadena que contiene una fecha, en formato día/mes/año. Podemos obtener fácilmente cada trozo de la cadena (cada dato de la fecha) utilizando el método *split*. Este método divide a la cadena en trozos, cortando cada trozo en cada ocurrencia de un separador, que se pasa como argumento.\n",
    "\n",
    "```python\n",
    "fecha = '17/05/2012'\n",
    "datos = fecha.split('/') # separamos la cadena por /\n",
    "print(datos)\n",
    "```\n",
    "-> ['17', '05', '2012'] \n",
    "\n",
    "###### Si no le damos a split un separador, la cadena será separada por espacios. Esto puede servir para obtener todas las palabras de una oración.\n",
    "\n",
    "\n",
    "**Ejercicio # 1.** Escriba un programa en Python que permita capturar una cadena de caracteres que signifiquen un comando de  impresion  en lenguaje Ansi C. Ejemplo:  printf(\"hola mundo\"); , print(velocidad); , etc.\n",
    "La salida debe ser el análisis léxico de esta cadena. \n",
    "<ol>\n",
    "    <li>La palabra reservada **printf**</li>\n",
    "    <li>El paréntesis de apertura **(**</li>\n",
    "    <li>La cadena de caracteres ó el identificador </li>\n",
    "    <li>El paréntesis de cierre **)**</li>\n",
    "    <li>El símbolo **;** de fin de sentencia </li>\n",
    "</ol>\n"
   ]
  },
  {
   "cell_type": "code",
   "execution_count": 11,
   "metadata": {},
   "outputs": [
    {
     "name": "stdout",
     "output_type": "stream",
     "text": [
      "-- Analisis lexico de la sentencia printf --\n",
      "Introduce la sentencia printf()printf(\"hola mundo\");\n",
      "la palabra reservada:  printf\n",
      "el parentesis de apertura:  (\n",
      "la cadena de caracteres:  \"hola mundo\"\n",
      "el parentesis d cierre:  )\n",
      "el simbolode fin de sentencia:  ;\n"
     ]
    }
   ],
   "source": [
    "#Programa para analizar lexicamente la sentencia printf en Ansi C\n",
    "\n",
    "def lexico(inst):\n",
    "    f=inst[0:6]\n",
    "    print (\"la palabra reservada: \", f)\n",
    "    d=inst[6]\n",
    "    print (\"el parentesis de apertura: \", d)\n",
    "    e=inst.find(\")\")\n",
    "    a=inst[e]\n",
    "    t=inst[7:e]\n",
    "    print(\"la cadena de caracteres: \",t)\n",
    "    print(\"el parentesis d cierre: \",a)\n",
    "    i=inst.find(\";\")\n",
    "    j=inst[i]\n",
    "    print(\"el simbolode fin de sentencia: \", j)\n",
    "    \n",
    "    \n",
    "def main():\n",
    "    print(\"-- Analisis lexico de la sentencia printf --\")\n",
    "    sentencia=input(\"Introduce la sentencia printf()\")\n",
    "    lexico(sentencia)\n",
    "    \n",
    "    #Expresion reglar\n",
    "    #sentencia = pr parentesisApertura String|id parentesisCerrado sfin\n",
    "    #pr = printf\n",
    "    #parentesisApertura = (\n",
    "    #String = \"+caracter\"\n",
    "    #caracter = a|b|c...A|B|C|*|+|0,1,2,3...9|space\n",
    "    #id = identificador o variable\n",
    "    #perentesisCerradura = )\n",
    "    #sfin = ;\n",
    "    \n",
    "\n",
    "    \n",
    "    \n",
    "if __name__ == \"__main__\": \n",
    "    main()"
   ]
  },
  {
   "cell_type": "code",
   "execution_count": null,
   "metadata": {},
   "outputs": [],
   "source": [
    "\"\"\"\n",
    "Autor: Fernanda Montoro\n",
    "Fecha: 04/07/19\n",
    "\"\"\"\n",
    "\n",
    "#script para analizar lexicamente la sentencia printf en Ansi c\n",
    "\n",
    "def lexico(c):\n",
    "    printf = c.find('printf')\n",
    "    if printf == 0:\n",
    "        parI = c.find('(')\n",
    "        if parI == 6 or parI == 7:\n",
    "            comI = c.find('\\'')\n",
    "            if comI == 7 or comI == 8:\n",
    "                parF = c.find(')')\n",
    "                if parF == -1:\n",
    "                    print('Falta \\')\\'')\n",
    "                else:\n",
    "                    parF = parF - 1\n",
    "                    if c[parF] == '\\'':\n",
    "                        comI = comI + 1\n",
    "                        mensaje = c[comI:parF]\n",
    "                        pyc = c.find(';')\n",
    "                        if len(c) - 1 == pyc:\n",
    "                            print('printf: Inicio de sentencia')\n",
    "                            print('(: PArentesis de apertura')\n",
    "                            print('\\': Comilla de apertura')\n",
    "                            print(mensaje, ': Mensaje')\n",
    "                            print('\\': Comilla de cierre')\n",
    "                            print('): Parentesis de cierre')\n",
    "                            print(';: Fin de sentencia')\n",
    "                        else:\n",
    "                            print('falta ;')\n",
    "                        \n",
    "                    else:\n",
    "                        print('Falta \\'\\'\\' de cierre')\n",
    "            else:\n",
    "                print('Falta \\'\\'\\' de apertura')\n",
    "        else:\n",
    "            print('Falta \\'(\\'')\n",
    "    else:\n",
    "        print(printf)\n",
    "        print('Falta printf')\n",
    "\n",
    "def main():\n",
    "    print('-- Analisis lexico de la sentencia printfn --')\n",
    "    cadena = input('Cadena: ')\n",
    "    lexico(cadena)\n",
    "\n",
    "if __name__ == '__main__':\n",
    "    main()"
   ]
  },
  {
   "cell_type": "markdown",
   "metadata": {},
   "source": [
    "# Expresiones Regulares \n",
    "Las expresiones regulares son una serie de carácteres que forman un patrón, normalmente representativo de otro grupo de carácteres mayor, de tal forma que podemos comparar el patrón con otro conjunto de carácteres para ver las coincidencias. \n",
    "\n",
    "Las expresiones regulares estan disponibles en casi cualquier lenguaje de programación, pero aunque su sintaxis es relativamente uniforme, cada lenguaje usa su propio dialecto. [DesarrolloWeb.com,2019]\n",
    "\n"
   ]
  },
  {
   "cell_type": "markdown",
   "metadata": {},
   "source": [
    "# Función Lambda en Python\n",
    "Funciones lambda en Python. Una función lambda es cuando enviamos a una función de orden superior directamente una función anónima. Es más común enviar una expresión lambda en lugar de enviar la referencia de una función como vimos en el concepto anterior. [tutorialesprogramacionya.com,2019]"
   ]
  },
  {
   "cell_type": "markdown",
   "metadata": {},
   "source": [
    "#### Ejercicios: \n",
    "<h5>Ejercicio 1. Dado el alfabeto{a b} escriba los siguientes lenguajes por medio de espresiones regulares</h5>\n",
    "<ol>\n",
    "<li>Cadena a's y b's que inicie con a</li>\n",
    "<li>Cadena a's y b's compuestas por un numero par de a's </li>\n",
    "<li>Cadena que finalicen en ab y que sean al menos de cuadro caracteres de longitud </li>\n",
    "<li>Palindromas de a's y b's </li>\n",
    "<li>Para el siguiente programa escrito en subconjunto de Ada, encuentre y clasifique todos los tokens </li>\n",
    "</ol>"
   ]
  },
  {
   "cell_type": "markdown",
   "metadata": {},
   "source": [
    "# Ejercicio 1                   <center>  Expresion: a a* b* </center>\n",
    "\n",
    "<IMG SRC=\"ii1.png\">\n",
    "    \n",
    "| Alfabto | q1 | q2 |\n",
    "| :-------|:--:| -: |\n",
    "|    a    | q2 | q2 |\n",
    "|    b    |    | q2 |\n",
    "    "
   ]
  },
  {
   "cell_type": "markdown",
   "metadata": {},
   "source": [
    "# Ejercicio 2                   <center>  Expresion: b* a b* a </center>\n",
    "\n",
    "<IMG SRC=\"ii2.png\">\n",
    "    \n",
    "| Alfabto | q1 | q2 |\n",
    "| :-------|:--:| -: |\n",
    "|    a    | q2 | q1 |\n",
    "|    b    | q1 | q2 |\n",
    "    "
   ]
  },
  {
   "cell_type": "markdown",
   "metadata": {},
   "source": [
    "# Ejercicio 3                   <center>  Expresion: (a(b)* (a|b)* ab </center>\n",
    "\n",
    "<IMG SRC=\"ii3.png\">\n",
    "    \n",
    "| Alfabto | q1 |   q2   |  q3 |  q4 |\n",
    "| :-------|:--:|   -:   |     |     |\n",
    "|    a    | q2 | q2,q3  |     |     |\n",
    "|    b    | q2 |   q2   |  q4 |     |"
   ]
  },
  {
   "cell_type": "markdown",
   "metadata": {},
   "source": [
    "# Ejercicio 5                \n",
    "<center>BEGIN</center>\n",
    "\n",
    "    \n",
    "| Simbolo |Significado                  |   \n",
    "| :-------|---------------------------: |   \n",
    "|  BEGIN  |Sentencia de inicio de bloque | \n"
   ]
  },
  {
   "cell_type": "markdown",
   "metadata": {},
   "source": [
    "\n",
    "<center>A := B3;</center>\n",
    "\n",
    "| Simbolo |  Significado          |   \n",
    "| :-------| -------------------:  |   \n",
    "|   A     | Identificador         | \n",
    "|  :=     | Sinbolo de asignacion | \n",
    "|   B3    | Identificador         | \n",
    "|   i     | Fin de sentencia      | \n"
   ]
  },
  {
   "cell_type": "markdown",
   "metadata": {},
   "source": [
    "<center>Xyz := A + B + C - P/Q;</center>\n",
    "\n",
    "| Simbolo |  Significado          |   \n",
    "| :-------| -------------------:  |   \n",
    "|   Xyz   | Identificador         | \n",
    "|  :=     | Sinbolo de asignacion | \n",
    "|   A     | Identificador         | \n",
    "|   +     | Simbolo de adicion    | \n",
    "|   B     | Identificador         | \n",
    "|   C     | Identificador         | \n",
    "|   -     | Simbolo de sustraccion| \n",
    "|   P     | Identificador         | \n",
    "|   /     | Simbolo de cociente   | \n",
    "|   Q     | Identificador         |"
   ]
  },
  {
   "cell_type": "markdown",
   "metadata": {},
   "source": [
    "<center> P := A - Xyz * (P+Q); </center>\n",
    "\n",
    "| Simbolo |  Significado          |   \n",
    "| :-------| -------------------:  |   \n",
    "|   P     | Identificador         | \n",
    "|  :=     | Sinbolo de asignacion | \n",
    "|   A     | Identificador         | \n",
    "|   -     | Simbolo de sustraccion| \n",
    "|   Xyz   | Identificador         | \n",
    "|   *     | Simbolo de producto   | \n",
    "|   (     | Parentesis de inicio  | \n",
    "|   P     | Identificador         | \n",
    "|   +     | Simbolo de adicion    | \n",
    "|   Q     | Identificador         |\n",
    "|   )     | Parentesis de fin     | "
   ]
  },
  {
   "cell_type": "markdown",
   "metadata": {},
   "source": [
    "<center> END; </center>\n",
    "\n",
    "| Simbolo |  Significado               |   \n",
    "| :-------| -------------------:       |   \n",
    "|   END   | Sentencia de fin de bloque | "
   ]
  }
 ],
 "metadata": {
  "kernelspec": {
   "display_name": "Python 3",
   "language": "python",
   "name": "python3"
  },
  "language_info": {
   "codemirror_mode": {
    "name": "ipython",
    "version": 3
   },
   "file_extension": ".py",
   "mimetype": "text/x-python",
   "name": "python",
   "nbconvert_exporter": "python",
   "pygments_lexer": "ipython3",
   "version": "3.7.3"
  }
 },
 "nbformat": 4,
 "nbformat_minor": 2
}
