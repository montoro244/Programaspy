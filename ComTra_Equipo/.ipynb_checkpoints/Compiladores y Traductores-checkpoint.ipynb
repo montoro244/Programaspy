{
 "cells": [
  {
   "cell_type": "markdown",
   "metadata": {},
   "source": [
    "# <center>Compiladores y Traductores <center>\n",
    "\n",
    "\n",
    "\n",
    "\n"
   ]
  },
  {
   "cell_type": "markdown",
   "metadata": {},
   "source": [
    "# Traductor\n",
    "Un traductor es un programa que recibe una entrada escrita en un lenguaje(el lenguaje fuente) y lo traduce a una salida perteneciente a otro lenguaje(el lenguaje objeto), conservando su significado."
   ]
  },
  {
   "cell_type": "markdown",
   "metadata": {},
   "source": [
    "En terminos computacionales esto significa que tanto la entrada como la salida sean capaces de producir los mismos resultados.\n",
    "\n",
    "<IMG SRC=\"i1.jpg.png\">"
   ]
  },
  {
   "cell_type": "markdown",
   "metadata": {},
   "source": [
    "# Tipos de Traductores\n",
    "\n",
    "<IMG SRC=\"i2.png\">"
   ]
  },
  {
   "cell_type": "markdown",
   "metadata": {},
   "source": [
    "# Interprete\n",
    "Un interprete es un programa que ejecuta cada una de las instrucciones y declaraciones que encuentra conforme va analizando el programa dado la entrada(sin producir un programa objeto o ejecutable). La ejecucion consiste en llamar a rutinas ya escritas en codigo maquina cuyos resultados u operaciones estan asociados de manera univoca al significado de las instrucciones o declaraciones identificadas."
   ]
  },
  {
   "cell_type": "markdown",
   "metadata": {},
   "source": [
    "Los interpretes son utiles para el desarrollo de prototipos y pequeños programas para labores no previstas. Presentan la facilidad de probar el codigo casi de manera inmediata, sin tener que recurrir a la declaracion previa de secciones de datos o codigo, y poder hallar errores de programacion rapidamente."
   ]
  },
  {
   "cell_type": "markdown",
   "metadata": {},
   "source": [
    "Resultan inadecuados para el desarrollo de complejos o grandes sistemas de informacion por ser mas lentos en su ejecucion."
   ]
  },
  {
   "cell_type": "markdown",
   "metadata": {},
   "source": [
    "<IMG SRC=\"i3.png\">"
   ]
  },
  {
   "cell_type": "markdown",
   "metadata": {},
   "source": [
    "# Compilador\n",
    "Un compilador es un programa que recibe como entrada un programa escrito en un lenguaje de nivel madie o superior (el programa fuente) y lo transforma a su equivalente en lenguaje ensamblador (el programa objeto), e inclusive hasta lenguaje maquina (el programa ejecutable) pero sin ejecutarlo."
   ]
  },
  {
   "cell_type": "markdown",
   "metadata": {},
   "source": [
    "<IMG SRC=\"i4.png\">"
   ]
  },
  {
   "cell_type": "markdown",
   "metadata": {},
   "source": [
    "<IMG SRC=\"i5.png\">"
   ]
  },
  {
   "cell_type": "markdown",
   "metadata": {},
   "source": [
    "# Ensamblador\n",
    "Un ensamblador es el programa encargado de llevar a cabo un proceso denominado de ensamble o ensamblado. Este proceso consiste en que, a partir de un programa escrito en lenguaje ensamblador, se produzca el correspondiente programa en lenguaje maquina (sin ejecutarlo).\n"
   ]
  },
  {
   "cell_type": "markdown",
   "metadata": {},
   "source": [
    "Para realizar lo anterior el ensamblador ejecuta lo siguiente:"
   ]
  },
  {
   "cell_type": "markdown",
   "metadata": {},
   "source": [
    "<ul>\n",
    "<li type= disc> La integracion de los diversos modulos que conforman al programa\n",
    "</ul>\n",
    "\n",
    "<ul>\n",
    "<li type= disc>La resolucion de las direcciones de memoria designadas en el area de datos para el almacenamiento de variables, constantes y estructuras complejas; asi como la determinacion de\n",
    "</ul>\n",
    "\n",
    "<ul>\n",
    "<li type= disc>La identificación de las direcciones de memoria en la sección de código correspondientes a los puntos de entrada en saltos condicionales e incondicionales junto con los puntos de arranque de las subrutinas. \n",
    "</ul>\n",
    "\n",
    "<ul>\n",
    "<li type= disc>La resolución de los diversos llamados a los servicios o rutinas del sistema operativo, código dinámico y bibliotecas de tiempo de ejecución. \n",
    "</ul>\n",
    "\n",
    "<ul>\n",
    "<li type= disc>La especificación de la cantidad de memoria destinadas para las áreas de datos, código, pila y montículo necesarias y otorgadas para su ejecución.\n",
    "</ul>\n",
    "\n",
    "<ul>\n",
    "<li type= disc>La incorporación de datos y código necesarios para la carga del programa y suejecución. \n",
    "</ul>\n",
    "\n"
   ]
  },
  {
   "cell_type": "markdown",
   "metadata": {},
   "source": [
    "El codigo ensamblador es una version mnemotecnica del codigo de maquina, donde se usan nombres en lugar de codigos binarios para operaciones, y tambien se usan nombres para representar direcciones de memoria."
   ]
  },
  {
   "cell_type": "markdown",
   "metadata": {},
   "source": [
    "La versión más simple de un ensamblador efectúa dos\n",
    "revisiones (pasadas) sobre el archivo de entrada (archivo\n",
    "fuente enensamblador)."
   ]
  },
  {
   "cell_type": "markdown",
   "metadata": {},
   "source": [
    "Por ejemplo:"
   ]
  },
  {
   "cell_type": "markdown",
   "metadata": {},
   "source": [
    "Se quiere desarrollarun programa que sume los valores de A y B, almacenando el resultado en R."
   ]
  },
  {
   "cell_type": "markdown",
   "metadata": {},
   "source": [
    "Si R es mayorque 100 asignarcero a R; terminar el programa"
   ]
  },
  {
   "cell_type": "markdown",
   "metadata": {},
   "source": [
    "<IMG SRC=\"i6.png\">"
   ]
  },
  {
   "cell_type": "markdown",
   "metadata": {},
   "source": [
    "# Primera Pasada\n",
    "En la primera pasada se localizan todos los identificadores que denoten una posición de memoria.\n",
    "Cuando se encuentran por primera vez los identificadores, se les asigna una posición de memoria, almacenando esta información en una tabla especial llamada tabla desímbolos."
   ]
  },
  {
   "cell_type": "markdown",
   "metadata": {},
   "source": [
    "<IMG SRC=\"i7.png\">"
   ]
  },
  {
   "cell_type": "markdown",
   "metadata": {},
   "source": [
    "# Segunda Pasada\n",
    "El ensamblador examina el archivo de entrada nuevamente."
   ]
  },
  {
   "cell_type": "markdown",
   "metadata": {},
   "source": [
    "Traduce cada identificador que representa una posición\n",
    "de memoria a la dirección asignada a ese identificador en\n",
    "la tabla de símbolos."
   ]
  },
  {
   "cell_type": "markdown",
   "metadata": {},
   "source": [
    "<IMG SRC=\"i8.png\">"
   ]
  },
  {
   "cell_type": "markdown",
   "metadata": {},
   "source": [
    "El resultado de la segunda pasada normalmente es código de máquina relocalizable, lo cual significa que el\n",
    "programa generado puede cargarse empezando en cualquier posición de lamemoria."
   ]
  },
  {
   "cell_type": "markdown",
   "metadata": {},
   "source": [
    "<IMG SRC=\"i9.png\">"
   ]
  },
  {
   "cell_type": "markdown",
   "metadata": {},
   "source": [
    "# Correspondencia entre el codigo Ensamblador y el codigo Maquina\n",
    "A continuación se muestra la correspondencia entre el código fuente escrito en un lenguaje de ensamblador y el código “ejecutable” generado por el mismo ensamblador. Obsérvese que cada instrucción se ha traducido en una instrucción en lenguaje máquina (representado en Hexadecimal)."
   ]
  },
  {
   "cell_type": "markdown",
   "metadata": {},
   "source": [
    "<IMG SRC=\"i10.png\">"
   ]
  },
  {
   "cell_type": "markdown",
   "metadata": {},
   "source": [
    "Representación del programa en la memoria de la computadora"
   ]
  },
  {
   "cell_type": "markdown",
   "metadata": {},
   "source": [
    "<IMG SRC=\"i11.png\">"
   ]
  },
  {
   "cell_type": "markdown",
   "metadata": {},
   "source": [
    "# Pre-compilador\n",
    "Un pre-compilador, también llamado preprocesador, es un\n",
    "programa que se ejecuta antes de invocar al compilador. Este programa es utilizado cuando el programa fuente (escrito en el lenguaje que el compilador es capaz de reconocer, denominado lenguaje anfitrión- en inglés host language), incluye estructuras, instrucciones o declaraciones escritas en otro lenguaje (el lenguaje empotrado- en inglés embeded language). El lenguaje\n",
    "empotrado es siempre un lenguaje de nivel superior o\n",
    "especializado (de consulta, de cuarta generación, simulación, cálculo numérico o estadístico, etcétera). Siendo que el único lenguaje que el compilador puede trabajar es aquel para el cual ha sido escrito, todas las instrucciones del lenguaje empotrado deben ser traducidas a instrucciones del lenguaje anfitrión para que puedan ser compiladas. Así pues un pre-compilador también\n",
    "es untraductor."
   ]
  },
  {
   "cell_type": "markdown",
   "metadata": {},
   "source": [
    "# Pseudo-compilador\n",
    "Un pseudo-compilador es un programa que actúa como un\n",
    "compilador, salvo que su producto no es ejecutable en ninguna máquina real sino en una máquina virtual. Un pseudo-compilador toma de entrada un programa escrito en un lenguaje determinado y lo transforma a una codificación especial llamada código de byte (ByteCode). Este código no tendría nada de especial o diferente al\n",
    "código máquina de cualquier microprocesador salvo por el hecho de ser el código máquina de un microprocesador ficticio. Tal procesador no existe, en su lugar existe un programa que emula a dicho procesador, de aquí el nombre de máquina virtual."
   ]
  },
  {
   "cell_type": "markdown",
   "metadata": {},
   "source": [
    "La ventaja de los pseudo-compiladores es que permite tener tantos emuladores como microprocesadores reales existan, pero sólo se requiere un compilador para producir código que se ejecutará en todos\n",
    "estos emuladores. Este método es una de las respuestas más aceptadas para el problema del tan ansiado lenguaje universal o código portable independiente de plataforma."
   ]
  },
  {
   "cell_type": "markdown",
   "metadata": {},
   "source": [
    "El proceso de compilación se divide en la fasede:"
   ]
  },
  {
   "cell_type": "markdown",
   "metadata": {},
   "source": [
    "<ul>\n",
    "<li type= disc>Front_End\n",
    "</ul>\n",
    "<ul>\n",
    "<li type= disc>Back_End\n",
    "</ul>"
   ]
  },
  {
   "cell_type": "markdown",
   "metadata": {},
   "source": [
    "Estas 2 fases se dividen en 6 etapas para completar el proceso de lacompilación."
   ]
  }
 ],
 "metadata": {
  "kernelspec": {
   "display_name": "Python 3",
   "language": "python",
   "name": "python3"
  },
  "language_info": {
   "codemirror_mode": {
    "name": "ipython",
    "version": 3
   },
   "file_extension": ".py",
   "mimetype": "text/x-python",
   "name": "python",
   "nbconvert_exporter": "python",
   "pygments_lexer": "ipython3",
   "version": "3.7.3"
  }
 },
 "nbformat": 4,
 "nbformat_minor": 2
}
