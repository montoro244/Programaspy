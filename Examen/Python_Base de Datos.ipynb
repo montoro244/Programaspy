{
 "cells": [
  {
   "cell_type": "markdown",
   "metadata": {},
   "source": [
    "# Python base de datos\n",
    "En python, el acceso a bases de datos esta estandarizado por la especificación Database API (DB-API), actualmente en la versión 2.0 (PEP 249: Python Database API Specification v2.0)\n",
    "\n",
    "Gracias a esto, se puede acceder a cualquier base de datos utlizando la misma interfaz (ya sea un motor remoto, local, ODBC, etc.). Se puede comparar con DAO, ADO, ADO.NET en el mundo Microsoft, o a JDBC en el mundo Java.\n",
    "\n",
    "O sea, el mismo codigo se podría llegar a usar para cualquier base de datos, tomando siempre los recaudos necesarios (lenguaje SQL estándard, estilo de parametros soportado, etc.)\n",
    "\n",
    "Por ello, el manejo de bases de datos en python siempre sigue estos pasos:\n",
    "<ol>\n",
    "<li>Importar el conector</li>\n",
    "<li>Conectarse a la base de datos (función connect del módulo conector)</li>\n",
    "<li>Abrir un Cursor (método cursor de la conexión)</li>\n",
    "<li>Ejecutar una consulta (método execute del cursor)</li>\n",
    "<li>Obtener los datos (método fetch o iterar sobre el cursor)</li>\n",
    "<li>Cerrar el cursor (método close del cursor)</li>\n",
    "(2019, July 13)**. Recuperado de https://www.python.org.ar/wiki/DbApi"
   ]
  },
  {
   "cell_type": "markdown",
   "metadata": {},
   "source": [
    "# Ejercicio Clase Sabado... Base de Datos: automatas2\n"
   ]
  },
  {
   "cell_type": "code",
   "execution_count": 3,
   "metadata": {},
   "outputs": [
    {
     "ename": "SyntaxError",
     "evalue": "invalid syntax (<ipython-input-3-c8c6a3eb956a>, line 14)",
     "output_type": "error",
     "traceback": [
      "\u001b[1;36m  File \u001b[1;32m\"<ipython-input-3-c8c6a3eb956a>\"\u001b[1;36m, line \u001b[1;32m14\u001b[0m\n\u001b[1;33m    cadsqlinsert = 'insert into keyword values(6, 'end');'\u001b[0m\n\u001b[1;37m                                                     ^\u001b[0m\n\u001b[1;31mSyntaxError\u001b[0m\u001b[1;31m:\u001b[0m invalid syntax\n"
     ]
    }
   ],
   "source": [
    "#El pimer paso es abrir la conexion a la base de datos\n",
    "import pymysql\n",
    "\n",
    "# Abre conexion con la base de datos\n",
    "try:\n",
    "    db = pymysql.connect(\"localhost\",\"root\",\"\",\"automatas2\")\n",
    "    print(\"Conexion establecida\")\n",
    "except: \n",
    "    print(\"Conexion no establecida\")\n",
    "#Insertar registros\n",
    "# prepare a cursor object using cursor() method\n",
    "cursor = db.cursor()\n",
    "\n",
    "cadsqlinsert = 'insert into keyword values(6, 'end');'\n",
    "# ejecuta el SQL query usando el metodo execute().\n",
    "cursor.execute(cadsqlinsert)\n",
    "\n",
    "#operacion atomica\n",
    "db.commit()"
   ]
  },
  {
   "cell_type": "code",
   "execution_count": 4,
   "metadata": {},
   "outputs": [
    {
     "ename": "NameError",
     "evalue": "name 'db' is not defined",
     "output_type": "error",
     "traceback": [
      "\u001b[1;31m---------------------------------------------------------------------------\u001b[0m",
      "\u001b[1;31mNameError\u001b[0m                                 Traceback (most recent call last)",
      "\u001b[1;32m<ipython-input-4-e01c611929a3>\u001b[0m in \u001b[0;36m<module>\u001b[1;34m\u001b[0m\n\u001b[0;32m      3\u001b[0m \u001b[1;31m#Insertar registros\u001b[0m\u001b[1;33m\u001b[0m\u001b[1;33m\u001b[0m\u001b[1;33m\u001b[0m\u001b[0m\n\u001b[0;32m      4\u001b[0m \u001b[1;31m# prepare a cursor object using cursor() method\u001b[0m\u001b[1;33m\u001b[0m\u001b[1;33m\u001b[0m\u001b[1;33m\u001b[0m\u001b[0m\n\u001b[1;32m----> 5\u001b[1;33m \u001b[0mcursor\u001b[0m \u001b[1;33m=\u001b[0m \u001b[0mdb\u001b[0m\u001b[1;33m.\u001b[0m\u001b[0mcursor\u001b[0m\u001b[1;33m(\u001b[0m\u001b[1;33m)\u001b[0m\u001b[1;33m\u001b[0m\u001b[1;33m\u001b[0m\u001b[0m\n\u001b[0m\u001b[0;32m      6\u001b[0m \u001b[1;31m#buscar\u001b[0m\u001b[1;33m\u001b[0m\u001b[1;33m\u001b[0m\u001b[1;33m\u001b[0m\u001b[0m\n\u001b[0;32m      7\u001b[0m \u001b[0mcadsqbuscar\u001b[0m \u001b[1;33m=\u001b[0m \u001b[1;34m\"select * from keyword where clave = 4;\"\u001b[0m\u001b[1;33m\u001b[0m\u001b[1;33m\u001b[0m\u001b[0m\n",
      "\u001b[1;31mNameError\u001b[0m: name 'db' is not defined"
     ]
    }
   ],
   "source": [
    "#Rutina para buscar registros en tabla keyword\n",
    "\n",
    "#Insertar registros\n",
    "# prepare a cursor object using cursor() method\n",
    "cursor = db.cursor()\n",
    "#buscar\n",
    "cadsqbuscar = \"select * from keyword where clave = 4;\"\n",
    "cursor.execute(cadsqbuscar)\n",
    "result = cursor.fechall()\n",
    "for row in result:\n",
    "    clave = row[0]\n",
    "    nombre = row[1]\n",
    "print (\"la clave es: {0}, el comando es: {1}\".format(clave,nombre))"
   ]
  },
  {
   "cell_type": "code",
   "execution_count": null,
   "metadata": {},
   "outputs": [],
   "source": [
    "#Rutina para borrar registros en tabla keyword\n",
    "cursor = db.cursor()\n",
    "cadsqldel = \"delete from keyword where clave = 3;\"\n",
    "curso.execute(cadsqldel)\n"
   ]
  },
  {
   "cell_type": "code",
   "execution_count": null,
   "metadata": {},
   "outputs": [],
   "source": [
    "#Rutina para cambiar registro en la tabla\n",
    "cursor = db.curso()\n",
    "#Cambia\n",
    "cadsqlchange = \"UPDATE\" \"keyword\" SET 'nombre' = while WHERE CLAVE=2;\"\n"
   ]
  },
  {
   "cell_type": "code",
   "execution_count": null,
   "metadata": {},
   "outputs": [],
   "source": [
    "#Rutina para imprimir todos los registros de la tabla keyword\n",
    "cursor = db.curso()\n",
    "cadsqlbuscar = \"select * from keyword;\"\n",
    "curso.execute(cadsqlbuscar)\n",
    "result = curso.fetchall()\n",
    "\n",
    "for row in result:\n",
    "    clave = row[0]\n",
    "    nombre = row[1]\n",
    "    print (\"clave = {0}, nombre = {1}\".format(clave, nombre))"
   ]
  },
  {
   "cell_type": "code",
   "execution_count": null,
   "metadata": {},
   "outputs": [],
   "source": []
  },
  {
   "cell_type": "markdown",
   "metadata": {},
   "source": [
    "# Ejercicio Clase Lunes... Base de Datos: examen2                                               Solo los metodos Funcioando en la Base de Datos"
   ]
  },
  {
   "cell_type": "code",
   "execution_count": 27,
   "metadata": {},
   "outputs": [
    {
     "name": "stdout",
     "output_type": "stream",
     "text": [
      "Conexion establecida\n"
     ]
    }
   ],
   "source": [
    "#Conexion a SQL con python\n",
    "#Establecer conexion\n",
    "import pymysql\n",
    "\n",
    "try:\n",
    "    db = pymysql.connect(\"localhost\", \"root\", \"\", \"examen2\")\n",
    "    print('Conexion establecida')\n",
    "except:\n",
    "    print('Conexion no establecida')\n",
    "\n",
    "cursor = db.cursor()\n",
    "\n",
    "\n",
    "    "
   ]
  },
  {
   "cell_type": "code",
   "execution_count": 30,
   "metadata": {},
   "outputs": [],
   "source": [
    "# Insertar dato\n",
    "import pymysql\n",
    "\n",
    "cadsqlinsert = \"insert into conexion values(08, 'Pedro');\"\n",
    "\n",
    "cursor.execute(cadsqlinsert)\n",
    "\n",
    "db.commit()\n"
   ]
  },
  {
   "cell_type": "code",
   "execution_count": 48,
   "metadata": {},
   "outputs": [
    {
     "name": "stdout",
     "output_type": "stream",
     "text": [
      "id = 1, nombre = Fernanda\n"
     ]
    }
   ],
   "source": [
    "# Consulta con una clave\n",
    "import pymysql\n",
    "\n",
    "cadsqlbuscar = \"select * from conexion where id = 1;\"\n",
    "\n",
    "cursor.execute(cadsqlbuscar)\n",
    "result = cursor.fetchall()\n",
    "\n",
    "for row in result:\n",
    "    id = row[0]\n",
    "    nombre = row[1]\n",
    "    print (\"id = {0}, nombre = {1}\".format(id,nombre))\n",
    "    \n",
    "    \n",
    "    \n",
    "    \n",
    "\n"
   ]
  },
  {
   "cell_type": "code",
   "execution_count": 3,
   "metadata": {},
   "outputs": [],
   "source": [
    "#Eliminar dato\n",
    "import pymysql\n",
    "\n",
    "cursor = db.cursor()\n",
    "cadsqldel = \"delete from conexion where id = 2;\"\n",
    "cursor.execute(cadsqldel)\n",
    "\n",
    "db.commit()\n"
   ]
  },
  {
   "cell_type": "code",
   "execution_count": 46,
   "metadata": {},
   "outputs": [],
   "source": [
    "# Modificar dato\n",
    "import pymysql\n",
    "\n",
    "cadsqlchange = \"UPDATE `conexion` SET nombre = 'Juan' WHERE id = 2;\"\n",
    "\n",
    "cursor.execute(cadsqlchange)\n",
    "\n",
    "db.commit()"
   ]
  },
  {
   "cell_type": "code",
   "execution_count": 47,
   "metadata": {},
   "outputs": [
    {
     "name": "stdout",
     "output_type": "stream",
     "text": [
      "id = 1, nombre = Fernanda\n",
      "id = 2, nombre = Juan\n",
      "id = 3, nombre = Pofe\n",
      "id = 4, nombre = Mario\n",
      "id = 5, nombre = Noel\n",
      "id = 6, nombre = FERNANDO\n",
      "id = 8, nombre = Pedro\n"
     ]
    }
   ],
   "source": [
    "# Consulta dato\n",
    "\n",
    "cadsqlbuscar = \"select * from conexion;\"\n",
    "\n",
    "cursor.execute(cadsqlbuscar)\n",
    "result = cursor.fetchall()\n",
    "\n",
    "for row in result:\n",
    "    id = row[0]\n",
    "    nombre = row[1]\n",
    "    print (\"id = {0}, nombre = {1}\".format(id,nombre))"
   ]
  },
  {
   "cell_type": "markdown",
   "metadata": {},
   "source": [
    "# Examen 2 Interfaz Grafica"
   ]
  },
  {
   "cell_type": "markdown",
   "metadata": {},
   "source": [
    "# Nota: Profe,mi base de datos se llama examen2, mi tabla se llama conexion y los atributos se llaman id y nombre"
   ]
  },
  {
   "cell_type": "code",
   "execution_count": 36,
   "metadata": {},
   "outputs": [],
   "source": [
    "from tkinter import *\n",
    "from tkinter import ttk\n",
    "import pymysql\n",
    "from reportlab.pdfgen import canvas\n",
    "import time\n",
    "\n",
    "def insertar(*args):\n",
    "    \n",
    "    cursor = db.cursor()\n",
    "    cadsqlinsert = \"insert into conexion values(\" +ids.get() +\",\" + \"'\" + nombre.get() + \"');\"\n",
    "    cursor.execute(cadsqlinsert)\n",
    "    db.commit()\n",
    "\n",
    "def eliminar(*args):\n",
    "    cursor = db.cursor()\n",
    "    cadsqldel = \"delete from conexion where id = \" + ids.get() + \";\"\n",
    "    cursor.execute(cadsqldel)\n",
    "    db.commit()\n",
    "\n",
    "def modificar(*args):\n",
    "    cursor = db.cursor()\n",
    "    cadsqlchange = \"UPDATE `conexion` SET nombre = '\" +nombre.get()+\"' WHERE id = \" +ids.get()+\";\" \n",
    "    cursor.execute(cadsqlchange)\n",
    "    db.commit()\n",
    "    \n",
    "def reporte(*args):\n",
    "    cursor = db.cursor()\n",
    "    c = canvas.Canvas('Reporte.pdf')\n",
    "    \n",
    "    c.drawString(10, 830, \"Empresa: Grupo Monsa\")\n",
    "    c.drawString(10, 810, \"Elaborado: 15/07/2019\")\n",
    "    #20\n",
    "    c.drawString(10, 760, \"id                    Nombre\")\n",
    "    \n",
    "    cursor = db.cursor()\n",
    "    cadsqlbuscar = \"select * from conexion;\"\n",
    "    cursor.execute(cadsqlbuscar)\n",
    "    result = cursor.fetchall()\n",
    "    \n",
    "    j= 740\n",
    "    for row in result:\n",
    "        ids=row[0]\n",
    "        nombre=row[1]\n",
    "        c.drawString(10,j, \"    {0}                    {1}\".format(ids, nombre))\n",
    "        j= j-15\n",
    "        \n",
    "    c.save()\n",
    "    \n",
    "try:\n",
    "    db = pymysql.connect(\"localhost\", \"root\", \"\", \"examen2\")\n",
    "except:\n",
    "    print('Conexion no establecida')\n",
    "    \n",
    "\n",
    "\n",
    "ventana = Tk()\n",
    "ventana.title(\"Base de datos\")\n",
    "\n",
    "mainframe = ttk.Frame(ventana, padding = \"10 10 30 30\")\n",
    "mainframe.grid(column=1, row=0)\n",
    "\n",
    "\n",
    "#Bloque para insertar\n",
    "\n",
    "ids = ttk.Entry(mainframe, width=7)\n",
    "ids.grid(column=1, row=0)\n",
    "\n",
    "nombre = ttk.Entry(mainframe, width=7)\n",
    "nombre.grid(column=1, row=1)\n",
    "\n",
    "\n",
    "ttk.Button(mainframe, text=\"Insertar\", command=insertar).grid(column=1, row=2)\n",
    "ttk.Button(mainframe, text=\"Eliminar\", command=eliminar).grid(column=1, row=3)\n",
    "ttk.Button(mainframe, text=\"Modificar\", command=modificar).grid(column=1, row=4)\n",
    "ttk.Button(mainframe, text=\"Reporte\", command=reporte).grid(column=1, row=5)\n",
    "\n",
    "ttk.Label(mainframe, text=\"id\").grid(column=0, row=0)\n",
    "ttk.Label(mainframe, text=\"Nombre\").grid(column=0, row=1)\n",
    "\n",
    "ventana.mainloop()"
   ]
  }
 ],
 "metadata": {
  "kernelspec": {
   "display_name": "Python 3",
   "language": "python",
   "name": "python3"
  },
  "language_info": {
   "codemirror_mode": {
    "name": "ipython",
    "version": 3
   },
   "file_extension": ".py",
   "mimetype": "text/x-python",
   "name": "python",
   "nbconvert_exporter": "python",
   "pygments_lexer": "ipython3",
   "version": "3.7.3"
  }
 },
 "nbformat": 4,
 "nbformat_minor": 2
}
